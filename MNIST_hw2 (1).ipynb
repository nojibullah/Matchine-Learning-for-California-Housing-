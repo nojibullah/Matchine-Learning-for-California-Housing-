{
  "cells": [
    {
      "cell_type": "code",
      "source": [
        "from sklearn.datasets import fetch_openml\n",
        "from sklearn.neighbors import KNeighborsClassifier\n",
        "from sklearn.linear_model import SGDClassifier\n",
        "from sklearn.linear_model import LogisticRegression\n",
        "import matplotlib as mlp\n",
        "import matplotlib.pyplot as plt\n",
        "from sklearn.model_selection import cross_val_score"
      ],
      "metadata": {
        "id": "iY4Ww4r2T1j7"
      },
      "execution_count": 1,
      "outputs": []
    },
    {
      "cell_type": "markdown",
      "source": [
        "MNIST with binary classification"
      ],
      "metadata": {
        "id": "VbiysmOCHHMb"
      }
    },
    {
      "cell_type": "code",
      "execution_count": 2,
      "metadata": {
        "id": "gtuxwiyv--YV"
      },
      "outputs": [],
      "source": [
        "# Fetch the MNIST data using sklearn\n",
        "mnist = fetch_openml('mnist_784', version=1)"
      ]
    },
    {
      "cell_type": "code",
      "source": [
        "# For this binary classification task, we will try to classify the MNIST digits\n",
        "# as 5/not-5. We can use the structure of the sklearn MNIST data to get both our\n",
        "# data and labels:\n",
        "X = mnist.data\n",
        "y = mnist.target\n",
        "X = X.to_numpy()\n",
        "y = y.to_numpy()"
      ],
      "metadata": {
        "id": "iW3Z2_yAmC4l"
      },
      "execution_count": 27,
      "outputs": []
    },
    {
      "cell_type": "code",
      "source": [
        "# As an example, plot a row from the dataset. You can see different examples\n",
        "# by rerunning this cell with different values of I.\n",
        "I = 25\n",
        "\n",
        "print(\"Label: \", y[I])\n",
        "plt.imshow(X.iloc[I].values.reshape(28,28))\n",
        "plt.show()"
      ],
      "metadata": {
        "colab": {
          "base_uri": "https://localhost:8080/",
          "height": 282
        },
        "id": "qcSVCAdBH-5a",
        "outputId": "4521222b-455b-49ae-b3f0-248227b72cdf"
      },
      "execution_count": 4,
      "outputs": [
        {
          "output_type": "stream",
          "name": "stdout",
          "text": [
            "Label:  2\n"
          ]
        },
        {
          "output_type": "display_data",
          "data": {
            "text/plain": [
              "<Figure size 432x288 with 1 Axes>"
            ],
            "image/png": "[encoded data removed]"
          },
          "metadata": {
            "needs_background": "light"
          }
        }
      ]
    },
    {
      "cell_type": "code",
      "source": [
        "# Currently, targets are strings containing the number associated with each row\n",
        "# of target data. We need to change this to a binary 5/not-5 value.\n",
        "y"
      ],
      "metadata": {
        "colab": {
          "base_uri": "https://localhost:8080/"
        },
        "id": "TyESjlcMC8hS",
        "outputId": "2876374d-6079-473d-f768-fcd9f3ded032"
      },
      "execution_count": 15,
      "outputs": [
        {
          "output_type": "execute_result",
          "data": {
            "text/plain": [
              "0        5\n",
              "1        0\n",
              "2        4\n",
              "3        1\n",
              "4        9\n",
              "        ..\n",
              "69995    2\n",
              "69996    3\n",
              "69997    4\n",
              "69998    5\n",
              "69999    6\n",
              "Name: class, Length: 70000, dtype: category\n",
              "Categories (10, object): ['0', '1', '2', '3', ..., '6', '7', '8', '9']"
            ]
          },
          "metadata": {},
          "execution_count": 15
        }
      ]
    },
    {
      "cell_type": "code",
      "source": [
        "# We can do this with a simple Boolean expression:\n",
        "y_5 = y == '5'\n",
        "y_5"
      ],
      "metadata": {
        "colab": {
          "base_uri": "https://localhost:8080/"
        },
        "id": "Vj66aP9PDDlS",
        "outputId": "b012df84-6f2d-45ce-d037-4f307dc50a89"
      },
      "execution_count": 16,
      "outputs": [
        {
          "output_type": "execute_result",
          "data": {
            "text/plain": [
              "0         True\n",
              "1        False\n",
              "2        False\n",
              "3        False\n",
              "4        False\n",
              "         ...  \n",
              "69995    False\n",
              "69996    False\n",
              "69997    False\n",
              "69998     True\n",
              "69999    False\n",
              "Name: class, Length: 70000, dtype: bool"
            ]
          },
          "metadata": {},
          "execution_count": 16
        }
      ]
    },
    {
      "cell_type": "code",
      "source": [
        "# Retrieve the train/test split from the dataset.\n",
        "# The MNIST digits are already divided into a train/test split:\n",
        "# the first 60,000 rows are the training set, and the rest are the test set.\n",
        "X_train, y_train_5, X_test, y_test_5 = X[:60000], y_5[:60000], X[60000:], y_5[60000:]\n",
        "\n",
        "len(X_train), len(X_test)"
      ],
      "metadata": {
        "id": "Ou-qgFZqmq0u",
        "colab": {
          "base_uri": "https://localhost:8080/"
        },
        "outputId": "da747553-4680-462b-a6a2-1dbf098ef7eb"
      },
      "execution_count": 17,
      "outputs": [
        {
          "output_type": "execute_result",
          "data": {
            "text/plain": [
              "(60000, 10000)"
            ]
          },
          "metadata": {},
          "execution_count": 17
        }
      ]
    },
    {
      "cell_type": "code",
      "source": [
        "# Let's do a 3-fold cross validation to evaluate two different models.\n",
        "\n",
        "model_sgd = SGDClassifier()\n",
        "sgd_scores = cross_val_score(model_sgd, X_train, y_train_5, cv=3, scoring=\"f1\")"
      ],
      "metadata": {
        "id": "sGvIPnN3nKjk"
      },
      "execution_count": 23,
      "outputs": []
    },
    {
      "cell_type": "code",
      "source": [
        "sgd_scores"
      ],
      "metadata": {
        "colab": {
          "base_uri": "https://localhost:8080/"
        },
        "id": "KS6tyTZzEKcz",
        "outputId": "d8ea870c-6b7a-4f36-dced-69dc91f72dad"
      },
      "execution_count": 25,
      "outputs": [
        {
          "output_type": "execute_result",
          "data": {
            "text/plain": [
              "array([0.6757046 , 0.75064935, 0.81468633])"
            ]
          },
          "metadata": {},
          "execution_count": 25
        }
      ]
    },
    {
      "cell_type": "code",
      "source": [
        "model_knn = KNeighborsClassifier()\n",
        "knn_scores = cross_val_score(model_knn, X_train, y_train_5, cv=3, scoring=\"f1\")"
      ],
      "metadata": {
        "id": "s68xYt9Gnq_D"
      },
      "execution_count": 28,
      "outputs": []
    },
    {
      "cell_type": "code",
      "source": [
        "knn_scores"
      ],
      "metadata": {
        "colab": {
          "base_uri": "https://localhost:8080/"
        },
        "id": "Elv8Fk2YoDhF",
        "outputId": "b6ccbc15-9613-4f01-d059-2ff1468d192c"
      },
      "execution_count": null,
      "outputs": [
        {
          "output_type": "execute_result",
          "data": {
            "text/plain": [
              "array([0.9671675 , 0.9610245 , 0.96143097])"
            ]
          },
          "metadata": {},
          "execution_count": 31
        }
      ]
    },
    {
      "cell_type": "code",
      "source": [
        "from sklearn import metrics\n",
        "# K-nearest-neighbors is performing better, so we select it and evaluate on the\n",
        "# test set for a final performance measue.\n",
        "model_knn.fit(X_train, y_train_5)\n",
        "y_pred = model_knn.predict(X_test)\n",
        "metrics.f1_score(y_test_5, y_pred)"
      ],
      "metadata": {
        "colab": {
          "base_uri": "https://localhost:8080/"
        },
        "id": "w5zHkudqGrE7",
        "outputId": "dd9c1e6d-6c97-487d-e8e9-a2816be38b39"
      },
      "execution_count": 35,
      "outputs": [
        {
          "output_type": "execute_result",
          "data": {
            "text/plain": [
              "0.9655172413793103"
            ]
          },
          "metadata": {},
          "execution_count": 35
        }
      ]
    },
    {
      "cell_type": "markdown",
      "source": [
        "MNIST with multiclass classification"
      ],
      "metadata": {
        "id": "kL7Kz6ZpHKo0"
      }
    },
    {
      "cell_type": "code",
      "source": [
        "# Try K-NN. This time, we'll evaluate on accuracy, since that is\n",
        "# what the homework wants.\n",
        "\n",
        "# We are doing multiclass classification. Get the original numeric data:\n",
        "y_train_multiclass, y_test_multiclass =y[:60000], y[60000:]\n",
        "y_train_multiclass"
      ],
      "metadata": {
        "colab": {
          "base_uri": "https://localhost:8080/"
        },
        "id": "5Z2Jkw3UHNhB",
        "outputId": "adec9599-1b0e-4edc-bda3-ce41d79f5e9d"
      },
      "execution_count": 10,
      "outputs": [
        {
          "output_type": "execute_result",
          "data": {
            "text/plain": [
              "0        5\n",
              "1        0\n",
              "2        4\n",
              "3        1\n",
              "4        9\n",
              "        ..\n",
              "59995    8\n",
              "59996    3\n",
              "59997    5\n",
              "59998    6\n",
              "59999    8\n",
              "Name: class, Length: 60000, dtype: category\n",
              "Categories (10, object): ['0', '1', '2', '3', ..., '6', '7', '8', '9']"
            ]
          },
          "metadata": {},
          "execution_count": 10
        }
      ]
    },
    {
      "cell_type": "code",
      "source": [
        "# Try 3-fold cross-validation on a K-nearest-neighbor using the default settings.\n",
        "\n",
        "model_knn = KNeighborsClassifier()\n",
        "\n",
        "# The model will automatically train as multiclass because it has all 10\n",
        "# numeric labels in y.\n",
        "knn_scores = cross_val_score(model_knn, X_train, y_train_multiclass, cv=3, scoring=\"accuracy\")\n",
        "print(\"KNN\", knn_scores)"
      ],
      "metadata": {
        "id": "UQvGHU-3U14q",
        "outputId": "3ccb0bc2-7e50-4b75-994e-1fcc6fdd58f9",
        "colab": {
          "base_uri": "https://localhost:8080/"
        }
      },
      "execution_count": 24,
      "outputs": [
        {
          "output_type": "stream",
          "name": "stdout",
          "text": [
            "KNN [0.9676  0.9671  0.96755]\n"
          ]
        }
      ]
    },
    {
      "cell_type": "code",
      "source": [
        "# Start Question 2 of the homework here. Try to get a final score above 97%\n",
        "# with multiclass classification using a grid search.\n"
      ],
      "metadata": {
        "id": "0GGfQD3CUkr8"
      },
      "execution_count": null,
      "outputs": []
    },
    {
      "cell_type": "code",
      "source": [
        "clf = KNeighborsClassifier(n_neighbors=1, weights=\"uniform\")"
      ],
      "metadata": {
        "id": "8SdRq8OE7Tbr"
      },
      "execution_count": 29,
      "outputs": []
    },
    {
      "cell_type": "code",
      "source": [
        "clf= KNeighborsClassifier ()"
      ],
      "metadata": {
        "id": "tZnQPKdq7mfd"
      },
      "execution_count": 31,
      "outputs": []
    },
    {
      "cell_type": "code",
      "source": [
        "param_grid = [{ \"n_neighbors\": [1, 3, 5, 7], \"weights\": [\"uniform\", \"distance\"]}]\n",
        "grid_search = GridSearchCV(clf, param_grid, cv=3, scoring= \"accuracy\", return_train_score=False, verbose=2)\n",
        "grid_search.fit(X_train, y_train_multiclass)"
      ],
      "metadata": {
        "id": "GUvNw48G8IDv",
        "outputId": "71c73373-7745-47fc-9870-b79f00122e96",
        "colab": {
          "base_uri": "https://localhost:8080/"
        }
      },
      "execution_count": null,
      "outputs": [
        {
          "output_type": "stream",
          "name": "stdout",
          "text": [
            "Fitting 3 folds for each of 8 candidates, totalling 24 fits\n",
            "[CV] END .....................n_neighbors=1, weights=uniform; total time=  41.6s\n",
            "[CV] END .....................n_neighbors=1, weights=uniform; total time=  52.7s\n",
            "[CV] END .....................n_neighbors=1, weights=uniform; total time=  51.8s\n",
            "[CV] END ....................n_neighbors=1, weights=distance; total time=  44.0s\n"
          ]
        }
      ]
    },
    {
      "cell_type": "code",
      "source": [
        "final clf = grid_search.best_estimator_"
      ],
      "metadata": {
        "id": "RqHbLmlq-fE7"
      },
      "execution_count": null,
      "outputs": []
    },
    {
      "cell_type": "code",
      "source": [
        "final_clf_score(X_test,y_test)"
      ],
      "metadata": {
        "id": "D1n3QDHi-ouQ"
      },
      "execution_count": null,
      "outputs": []
    }
  ],
  "metadata": {
    "colab": {
      "collapsed_sections": [],
      "provenance": []
    },
    "kernelspec": {
      "display_name": "Python 3",
      "name": "python3"
    },
    "language_info": {
      "name": "python"
    }
  },
  "nbformat": 4,
  "nbformat_minor": 0
}